{
 "cells": [
  {
   "cell_type": "code",
   "execution_count": 1,
   "metadata": {},
   "outputs": [],
   "source": [
    "#Loading the CVS data into a pandas DataFrame which is importing the pandas library with a shorter name\n",
    "import pandas as pd"
   ]
  },
  {
   "cell_type": "code",
   "execution_count": 2,
   "metadata": {},
   "outputs": [],
   "source": [
    "covid = pd.read_csv('https://covid.ourworldindata.org/data/owid-covid-data.csv')"
   ]
  },
  {
   "cell_type": "code",
   "execution_count": 3,
   "metadata": {},
   "outputs": [
    {
     "name": "stdout",
     "output_type": "stream",
     "text": [
      "<class 'pandas.core.frame.DataFrame'>\n",
      "RangeIndex: 51371 entries, 0 to 51370\n",
      "Data columns (total 41 columns):\n",
      " #   Column                           Non-Null Count  Dtype  \n",
      "---  ------                           --------------  -----  \n",
      " 0   iso_code                         51076 non-null  object \n",
      " 1   continent                        50781 non-null  object \n",
      " 2   location                         51371 non-null  object \n",
      " 3   date                             51371 non-null  object \n",
      " 4   total_cases                      47764 non-null  float64\n",
      " 5   new_cases                        50491 non-null  float64\n",
      " 6   new_cases_smoothed               49704 non-null  float64\n",
      " 7   total_deaths                     38980 non-null  float64\n",
      " 8   new_deaths                       50491 non-null  float64\n",
      " 9   new_deaths_smoothed              49704 non-null  float64\n",
      " 10  total_cases_per_million          47505 non-null  float64\n",
      " 11  new_cases_per_million            50427 non-null  float64\n",
      " 12  new_cases_smoothed_per_million   49639 non-null  float64\n",
      " 13  total_deaths_per_million         38736 non-null  float64\n",
      " 14  new_deaths_per_million           50427 non-null  float64\n",
      " 15  new_deaths_smoothed_per_million  49639 non-null  float64\n",
      " 16  total_tests                      19447 non-null  float64\n",
      " 17  new_tests                        19096 non-null  float64\n",
      " 18  total_tests_per_thousand         19447 non-null  float64\n",
      " 19  new_tests_per_thousand           19096 non-null  float64\n",
      " 20  new_tests_smoothed               21464 non-null  float64\n",
      " 21  new_tests_smoothed_per_thousand  21464 non-null  float64\n",
      " 22  tests_per_case                   19779 non-null  float64\n",
      " 23  positive_rate                    20117 non-null  float64\n",
      " 24  tests_units                      22415 non-null  object \n",
      " 25  stringency_index                 42777 non-null  float64\n",
      " 26  population                       51076 non-null  float64\n",
      " 27  population_density               48716 non-null  float64\n",
      " 28  median_age                       45763 non-null  float64\n",
      " 29  aged_65_older                    45078 non-null  float64\n",
      " 30  aged_70_older                    45525 non-null  float64\n",
      " 31  gdp_per_capita                   45160 non-null  float64\n",
      " 32  extreme_poverty                  30114 non-null  float64\n",
      " 33  cardiovasc_death_rate            45743 non-null  float64\n",
      " 34  diabetes_prevalence              47394 non-null  float64\n",
      " 35  female_smokers                   35707 non-null  float64\n",
      " 36  male_smokers                     35250 non-null  float64\n",
      " 37  handwashing_facilities           21547 non-null  float64\n",
      " 38  hospital_beds_per_thousand       41261 non-null  float64\n",
      " 39  life_expectancy                  50425 non-null  float64\n",
      " 40  human_development_index          44152 non-null  float64\n",
      "dtypes: float64(36), object(5)\n",
      "memory usage: 16.1+ MB\n"
     ]
    }
   ],
   "source": [
    "#Getting a summary of the data\n",
    "covid.info()"
   ]
  },
  {
   "cell_type": "code",
   "execution_count": 4,
   "metadata": {},
   "outputs": [
    {
     "data": {
      "text/html": [
       "<div>\n",
       "<style scoped>\n",
       "    .dataframe tbody tr th:only-of-type {\n",
       "        vertical-align: middle;\n",
       "    }\n",
       "\n",
       "    .dataframe tbody tr th {\n",
       "        vertical-align: top;\n",
       "    }\n",
       "\n",
       "    .dataframe thead th {\n",
       "        text-align: right;\n",
       "    }\n",
       "</style>\n",
       "<table border=\"1\" class=\"dataframe\">\n",
       "  <thead>\n",
       "    <tr style=\"text-align: right;\">\n",
       "      <th></th>\n",
       "      <th>iso_code</th>\n",
       "      <th>continent</th>\n",
       "      <th>location</th>\n",
       "      <th>date</th>\n",
       "      <th>total_cases</th>\n",
       "      <th>new_cases</th>\n",
       "      <th>new_cases_smoothed</th>\n",
       "      <th>total_deaths</th>\n",
       "      <th>new_deaths</th>\n",
       "      <th>new_deaths_smoothed</th>\n",
       "      <th>...</th>\n",
       "      <th>gdp_per_capita</th>\n",
       "      <th>extreme_poverty</th>\n",
       "      <th>cardiovasc_death_rate</th>\n",
       "      <th>diabetes_prevalence</th>\n",
       "      <th>female_smokers</th>\n",
       "      <th>male_smokers</th>\n",
       "      <th>handwashing_facilities</th>\n",
       "      <th>hospital_beds_per_thousand</th>\n",
       "      <th>life_expectancy</th>\n",
       "      <th>human_development_index</th>\n",
       "    </tr>\n",
       "  </thead>\n",
       "  <tbody>\n",
       "    <tr>\n",
       "      <th>0</th>\n",
       "      <td>ABW</td>\n",
       "      <td>North America</td>\n",
       "      <td>Aruba</td>\n",
       "      <td>2020-03-13</td>\n",
       "      <td>2.0</td>\n",
       "      <td>2.0</td>\n",
       "      <td>NaN</td>\n",
       "      <td>NaN</td>\n",
       "      <td>0.0</td>\n",
       "      <td>NaN</td>\n",
       "      <td>...</td>\n",
       "      <td>35973.781</td>\n",
       "      <td>NaN</td>\n",
       "      <td>NaN</td>\n",
       "      <td>11.62</td>\n",
       "      <td>NaN</td>\n",
       "      <td>NaN</td>\n",
       "      <td>NaN</td>\n",
       "      <td>NaN</td>\n",
       "      <td>76.29</td>\n",
       "      <td>NaN</td>\n",
       "    </tr>\n",
       "    <tr>\n",
       "      <th>1</th>\n",
       "      <td>ABW</td>\n",
       "      <td>North America</td>\n",
       "      <td>Aruba</td>\n",
       "      <td>2020-03-19</td>\n",
       "      <td>NaN</td>\n",
       "      <td>NaN</td>\n",
       "      <td>0.286</td>\n",
       "      <td>NaN</td>\n",
       "      <td>NaN</td>\n",
       "      <td>0.0</td>\n",
       "      <td>...</td>\n",
       "      <td>35973.781</td>\n",
       "      <td>NaN</td>\n",
       "      <td>NaN</td>\n",
       "      <td>11.62</td>\n",
       "      <td>NaN</td>\n",
       "      <td>NaN</td>\n",
       "      <td>NaN</td>\n",
       "      <td>NaN</td>\n",
       "      <td>76.29</td>\n",
       "      <td>NaN</td>\n",
       "    </tr>\n",
       "    <tr>\n",
       "      <th>2</th>\n",
       "      <td>ABW</td>\n",
       "      <td>North America</td>\n",
       "      <td>Aruba</td>\n",
       "      <td>2020-03-20</td>\n",
       "      <td>4.0</td>\n",
       "      <td>2.0</td>\n",
       "      <td>0.286</td>\n",
       "      <td>NaN</td>\n",
       "      <td>0.0</td>\n",
       "      <td>0.0</td>\n",
       "      <td>...</td>\n",
       "      <td>35973.781</td>\n",
       "      <td>NaN</td>\n",
       "      <td>NaN</td>\n",
       "      <td>11.62</td>\n",
       "      <td>NaN</td>\n",
       "      <td>NaN</td>\n",
       "      <td>NaN</td>\n",
       "      <td>NaN</td>\n",
       "      <td>76.29</td>\n",
       "      <td>NaN</td>\n",
       "    </tr>\n",
       "    <tr>\n",
       "      <th>3</th>\n",
       "      <td>ABW</td>\n",
       "      <td>North America</td>\n",
       "      <td>Aruba</td>\n",
       "      <td>2020-03-21</td>\n",
       "      <td>NaN</td>\n",
       "      <td>NaN</td>\n",
       "      <td>0.286</td>\n",
       "      <td>NaN</td>\n",
       "      <td>NaN</td>\n",
       "      <td>0.0</td>\n",
       "      <td>...</td>\n",
       "      <td>35973.781</td>\n",
       "      <td>NaN</td>\n",
       "      <td>NaN</td>\n",
       "      <td>11.62</td>\n",
       "      <td>NaN</td>\n",
       "      <td>NaN</td>\n",
       "      <td>NaN</td>\n",
       "      <td>NaN</td>\n",
       "      <td>76.29</td>\n",
       "      <td>NaN</td>\n",
       "    </tr>\n",
       "    <tr>\n",
       "      <th>4</th>\n",
       "      <td>ABW</td>\n",
       "      <td>North America</td>\n",
       "      <td>Aruba</td>\n",
       "      <td>2020-03-22</td>\n",
       "      <td>NaN</td>\n",
       "      <td>NaN</td>\n",
       "      <td>0.286</td>\n",
       "      <td>NaN</td>\n",
       "      <td>NaN</td>\n",
       "      <td>0.0</td>\n",
       "      <td>...</td>\n",
       "      <td>35973.781</td>\n",
       "      <td>NaN</td>\n",
       "      <td>NaN</td>\n",
       "      <td>11.62</td>\n",
       "      <td>NaN</td>\n",
       "      <td>NaN</td>\n",
       "      <td>NaN</td>\n",
       "      <td>NaN</td>\n",
       "      <td>76.29</td>\n",
       "      <td>NaN</td>\n",
       "    </tr>\n",
       "  </tbody>\n",
       "</table>\n",
       "<p>5 rows × 41 columns</p>\n",
       "</div>"
      ],
      "text/plain": [
       "  iso_code      continent location        date  total_cases  new_cases  \\\n",
       "0      ABW  North America    Aruba  2020-03-13          2.0        2.0   \n",
       "1      ABW  North America    Aruba  2020-03-19          NaN        NaN   \n",
       "2      ABW  North America    Aruba  2020-03-20          4.0        2.0   \n",
       "3      ABW  North America    Aruba  2020-03-21          NaN        NaN   \n",
       "4      ABW  North America    Aruba  2020-03-22          NaN        NaN   \n",
       "\n",
       "   new_cases_smoothed  total_deaths  new_deaths  new_deaths_smoothed  ...  \\\n",
       "0                 NaN           NaN         0.0                  NaN  ...   \n",
       "1               0.286           NaN         NaN                  0.0  ...   \n",
       "2               0.286           NaN         0.0                  0.0  ...   \n",
       "3               0.286           NaN         NaN                  0.0  ...   \n",
       "4               0.286           NaN         NaN                  0.0  ...   \n",
       "\n",
       "   gdp_per_capita  extreme_poverty  cardiovasc_death_rate  \\\n",
       "0       35973.781              NaN                    NaN   \n",
       "1       35973.781              NaN                    NaN   \n",
       "2       35973.781              NaN                    NaN   \n",
       "3       35973.781              NaN                    NaN   \n",
       "4       35973.781              NaN                    NaN   \n",
       "\n",
       "   diabetes_prevalence  female_smokers  male_smokers  handwashing_facilities  \\\n",
       "0                11.62             NaN           NaN                     NaN   \n",
       "1                11.62             NaN           NaN                     NaN   \n",
       "2                11.62             NaN           NaN                     NaN   \n",
       "3                11.62             NaN           NaN                     NaN   \n",
       "4                11.62             NaN           NaN                     NaN   \n",
       "\n",
       "   hospital_beds_per_thousand  life_expectancy  human_development_index  \n",
       "0                         NaN            76.29                      NaN  \n",
       "1                         NaN            76.29                      NaN  \n",
       "2                         NaN            76.29                      NaN  \n",
       "3                         NaN            76.29                      NaN  \n",
       "4                         NaN            76.29                      NaN  \n",
       "\n",
       "[5 rows x 41 columns]"
      ]
     },
     "execution_count": 4,
     "metadata": {},
     "output_type": "execute_result"
    }
   ],
   "source": [
    "#Using to show the top five rows of data, also to ensure access of the correct data\n",
    "covid.head()"
   ]
  },
  {
   "cell_type": "code",
   "execution_count": 5,
   "metadata": {},
   "outputs": [
    {
     "data": {
      "text/plain": [
       "count    30114.000000\n",
       "mean        12.267889\n",
       "std         19.320344\n",
       "min          0.100000\n",
       "25%          0.500000\n",
       "50%          2.000000\n",
       "75%         18.100000\n",
       "max         77.600000\n",
       "Name: extreme_poverty, dtype: float64"
      ]
     },
     "execution_count": 5,
     "metadata": {},
     "output_type": "execute_result"
    }
   ],
   "source": [
    "#Curious to see some statistical data of the dataset\n",
    "covid['extreme_poverty'].describe()"
   ]
  },
  {
   "cell_type": "code",
   "execution_count": 11,
   "metadata": {},
   "outputs": [
    {
     "data": {
      "text/plain": [
       "6350196191.0"
      ]
     },
     "execution_count": 11,
     "metadata": {},
     "output_type": "execute_result"
    }
   ],
   "source": [
    "#Discovering some other things I can see using Pandas. I wanted to see the total covid cases.\n",
    "covid.total_cases.sum()"
   ]
  },
  {
   "cell_type": "code",
   "execution_count": 13,
   "metadata": {},
   "outputs": [],
   "source": [
    "#My question is what countries in the world had the highest diabetes prevelance\n",
    "diabetes_prevalence=covid.groupby('location').diabetes_prevalence.mean().sort_values(ascending=False).iloc[1:11]"
   ]
  },
  {
   "cell_type": "code",
   "execution_count": 14,
   "metadata": {},
   "outputs": [
    {
     "data": {
      "text/plain": [
       "location\n",
       "French Polynesia    22.63\n",
       "Mauritius           22.02\n",
       "Guam                21.52\n",
       "Solomon Islands     18.68\n",
       "Saudi Arabia        17.72\n",
       "Name: diabetes_prevalence, dtype: float64"
      ]
     },
     "execution_count": 14,
     "metadata": {},
     "output_type": "execute_result"
    }
   ],
   "source": [
    "diabetes_prevalence.head()"
   ]
  },
  {
   "cell_type": "code",
   "execution_count": 28,
   "metadata": {},
   "outputs": [
    {
     "data": {
      "text/plain": [
       "<matplotlib.axes._subplots.AxesSubplot at 0x7f54dc4a2850>"
      ]
     },
     "execution_count": 28,
     "metadata": {},
     "output_type": "execute_result"
    },
    {
     "data": {
      "image/png": "[encoded data removed]",
      "text/plain": [
       "<Figure size 432x288 with 1 Axes>"
      ]
     },
     "metadata": {
      "needs_background": "light"
     },
     "output_type": "display_data"
    }
   ],
   "source": [
    "#I wanted to look into if the countries with high diabetes prevalence were more prone to covid. Learned a little visual from my classmates here :)\n",
    "diabetes_prevalence.plot(x= 'location', y='diabetes_prevalence', kind= 'bar')"
   ]
  },
  {
   "cell_type": "code",
   "execution_count": 31,
   "metadata": {},
   "outputs": [
    {
     "data": {
      "text/plain": [
       "count      50781\n",
       "unique         6\n",
       "top       Europe\n",
       "freq       13391\n",
       "Name: continent, dtype: object"
      ]
     },
     "execution_count": 31,
     "metadata": {},
     "output_type": "execute_result"
    }
   ],
   "source": [
    "covid['continent'].describe()"
   ]
  },
  {
   "cell_type": "code",
   "execution_count": null,
   "metadata": {},
   "outputs": [],
   "source": []
  }
 ],
 "metadata": {
  "kernelspec": {
   "display_name": "Python 3",
   "language": "python",
   "name": "python3"
  },
  "language_info": {
   "codemirror_mode": {
    "name": "ipython",
    "version": 3
   },
   "file_extension": ".py",
   "mimetype": "text/x-python",
   "name": "python",
   "nbconvert_exporter": "python",
   "pygments_lexer": "ipython3",
   "version": "3.8.5"
  }
 },
 "nbformat": 4,
 "nbformat_minor": 4
}
